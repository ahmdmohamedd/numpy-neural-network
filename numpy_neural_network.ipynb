{
 "cells": [
  {
   "cell_type": "code",
   "execution_count": 1,
   "id": "ad9d429d",
   "metadata": {},
   "outputs": [],
   "source": [
    "import numpy as np"
   ]
  },
  {
   "cell_type": "markdown",
   "id": "cca85a05",
   "metadata": {},
   "source": [
    "# Neural Network uisng Sigmoid Function"
   ]
  },
  {
   "cell_type": "code",
   "execution_count": 2,
   "id": "579d8cc0",
   "metadata": {},
   "outputs": [],
   "source": [
    "# Sigmoid activation function\n",
    "def sigmoid(x):\n",
    "    return 1 / (1 + np.exp(-x))\n",
    "\n",
    "# Derivative of the sigmoid function\n",
    "def sigmoid_derivative(x):\n",
    "    return x * (1 - x)"
   ]
  },
  {
   "cell_type": "code",
   "execution_count": 3,
   "id": "6a9360bf",
   "metadata": {},
   "outputs": [],
   "source": [
    "class NeuralNetwork:\n",
    "    def __init__(self, input_size, hidden_size, output_size):\n",
    "        # Initialize weights randomly\n",
    "        self.weights_input_hidden = np.random.randn(input_size, hidden_size)\n",
    "        self.weights_hidden_output = np.random.randn(hidden_size, output_size)\n",
    "        \n",
    "        # Initialize biases\n",
    "        self.bias_hidden = np.zeros((1, hidden_size))\n",
    "        self.bias_output = np.zeros((1, output_size))\n",
    "    \n",
    "    # Forward pass\n",
    "    def forward(self, X):\n",
    "        # Input to hidden layer\n",
    "        self.hidden_input = np.dot(X, self.weights_input_hidden) + self.bias_hidden\n",
    "        self.hidden_output = sigmoid(self.hidden_input)\n",
    "        \n",
    "        # Hidden layer to output\n",
    "        self.output_input = np.dot(self.hidden_output, self.weights_hidden_output) + self.bias_output\n",
    "        self.output = sigmoid(self.output_input)\n",
    "        return self.output\n",
    "    \n",
    "    # Backpropagation\n",
    "    def backward(self, X, y, output, learning_rate):\n",
    "        # Calculate error\n",
    "        output_error = y - output\n",
    "        output_delta = output_error * sigmoid_derivative(output)\n",
    "        \n",
    "        # Hidden layer error\n",
    "        hidden_error = np.dot(output_delta, self.weights_hidden_output.T)\n",
    "        hidden_delta = hidden_error * sigmoid_derivative(self.hidden_output)\n",
    "        \n",
    "        # Update weights and biases\n",
    "        self.weights_hidden_output += np.dot(self.hidden_output.T, output_delta) * learning_rate\n",
    "        self.weights_input_hidden += np.dot(X.T, hidden_delta) * learning_rate\n",
    "        \n",
    "        self.bias_output += np.sum(output_delta, axis=0, keepdims=True) * learning_rate\n",
    "        self.bias_hidden += np.sum(hidden_delta, axis=0, keepdims=True) * learning_rate\n",
    "    \n",
    "    # Training function\n",
    "    def train(self, X, y, iterations, learning_rate):\n",
    "        for i in range(iterations):\n",
    "            output = self.forward(X)\n",
    "            self.backward(X, y, output, learning_rate)\n",
    "            if i % 1000 == 0:\n",
    "                loss = np.mean(np.square(y - output))\n",
    "                print(f\"Iteration {i}, Loss: {loss}\")\n",
    "\n"
   ]
  },
  {
   "cell_type": "code",
   "execution_count": 5,
   "id": "6dcce2cf",
   "metadata": {},
   "outputs": [
    {
     "name": "stdout",
     "output_type": "stream",
     "text": [
      "Iteration 0, Loss: 0.25742322601094036\n",
      "Iteration 1000, Loss: 0.21592864250419364\n",
      "Iteration 2000, Loss: 0.1362853635819585\n",
      "Iteration 3000, Loss: 0.03931135056218002\n",
      "Iteration 4000, Loss: 0.014869927174826636\n",
      "Iteration 5000, Loss: 0.008314451483631115\n",
      "Iteration 6000, Loss: 0.005589108766185212\n",
      "Iteration 7000, Loss: 0.004149341252440032\n",
      "Iteration 8000, Loss: 0.0032738830124511\n",
      "Iteration 9000, Loss: 0.0026907503846525897\n",
      "Iteration 10000, Loss: 0.002276852674864601\n",
      "Iteration 11000, Loss: 0.0019690345834851674\n",
      "Iteration 12000, Loss: 0.0017317900678655998\n",
      "Iteration 13000, Loss: 0.0015437201266771598\n",
      "Iteration 14000, Loss: 0.0013912034760642778\n",
      "Iteration 15000, Loss: 0.0012651789861482393\n",
      "Iteration 16000, Loss: 0.001159396276210204\n",
      "Iteration 17000, Loss: 0.001069410759347104\n",
      "Iteration 18000, Loss: 0.0009919792383897284\n",
      "Iteration 19000, Loss: 0.0009246820024444821\n",
      "Predicted Output: \n",
      " [[0.02610598]\n",
      " [0.97199591]\n",
      " [0.97201874]\n",
      " [0.03484267]]\n"
     ]
    }
   ],
   "source": [
    "# Create some dummy data for training\n",
    "X = np.array([[0, 0], [0, 1], [1, 0], [1, 1]])  # Input (XOR dataset)\n",
    "y = np.array([[0], [1], [1], [0]])  # Expected output (XOR)\n",
    "\n",
    "# Create the neural network\n",
    "nn = NeuralNetwork(input_size=2, hidden_size=2, output_size=1)\n",
    "\n",
    "# Train the network\n",
    "nn.train(X, y, iterations=20000, learning_rate=0.1)\n",
    "\n",
    "# Test the network after training\n",
    "output = nn.forward(X)\n",
    "print(\"Predicted Output: \\n\", output)\n"
   ]
  },
  {
   "cell_type": "markdown",
   "id": "51ba1e6a",
   "metadata": {},
   "source": [
    "# Neural Network using ReLU function"
   ]
  },
  {
   "cell_type": "code",
   "execution_count": 6,
   "id": "b4f46dbe",
   "metadata": {},
   "outputs": [],
   "source": [
    "# ReLU activation function\n",
    "def relu(x):\n",
    "    return np.maximum(0, x)\n",
    "\n",
    "# Derivative of ReLU\n",
    "def relu_derivative(x):\n",
    "    return np.where(x > 0, 1, 0)"
   ]
  },
  {
   "cell_type": "code",
   "execution_count": 7,
   "id": "a1a6472b",
   "metadata": {},
   "outputs": [],
   "source": [
    "class NeuralNetworkReLU:\n",
    "    def __init__(self, input_size, hidden_size, output_size):\n",
    "        # Initialize weights randomly\n",
    "        self.weights_input_hidden = np.random.randn(input_size, hidden_size)\n",
    "        self.weights_hidden_output = np.random.randn(hidden_size, output_size)\n",
    "        \n",
    "        # Initialize biases\n",
    "        self.bias_hidden = np.zeros((1, hidden_size))\n",
    "        self.bias_output = np.zeros((1, output_size))\n",
    "    \n",
    "    # Forward pass\n",
    "    def forward(self, X):\n",
    "        # Input to hidden layer (ReLU)\n",
    "        self.hidden_input = np.dot(X, self.weights_input_hidden) + self.bias_hidden\n",
    "        self.hidden_output = relu(self.hidden_input)\n",
    "        \n",
    "        # Hidden layer to output (Sigmoid)\n",
    "        self.output_input = np.dot(self.hidden_output, self.weights_hidden_output) + self.bias_output\n",
    "        self.output = sigmoid(self.output_input)  # Sigmoid activation at the output layer\n",
    "        return self.output\n",
    "    \n",
    "    # Backpropagation\n",
    "    def backward(self, X, y, output, learning_rate):\n",
    "        # Calculate output layer error\n",
    "        output_error = y - output\n",
    "        output_delta = output_error * sigmoid_derivative(output)\n",
    "        \n",
    "        # Hidden layer error\n",
    "        hidden_error = np.dot(output_delta, self.weights_hidden_output.T)\n",
    "        hidden_delta = hidden_error * relu_derivative(self.hidden_output)  # Derivative of ReLU\n",
    "        \n",
    "        # Update weights and biases\n",
    "        self.weights_hidden_output += np.dot(self.hidden_output.T, output_delta) * learning_rate\n",
    "        self.weights_input_hidden += np.dot(X.T, hidden_delta) * learning_rate\n",
    "        \n",
    "        self.bias_output += np.sum(output_delta, axis=0, keepdims=True) * learning_rate\n",
    "        self.bias_hidden += np.sum(hidden_delta, axis=0, keepdims=True) * learning_rate\n",
    "    \n",
    "    # Training function\n",
    "    def train(self, X, y, iterations, learning_rate):\n",
    "        for i in range(iterations):\n",
    "            output = self.forward(X)\n",
    "            self.backward(X, y, output, learning_rate)\n",
    "            if i % 1000 == 0:\n",
    "                loss = np.mean(np.square(y - output))  # Mean Squared Error (MSE)\n",
    "                print(f\"Iteration {i}, Loss: {loss}\")\n"
   ]
  },
  {
   "cell_type": "code",
   "execution_count": 10,
   "id": "b8c31732",
   "metadata": {},
   "outputs": [
    {
     "name": "stdout",
     "output_type": "stream",
     "text": [
      "Iteration 0, Loss: 0.2357978759437006\n",
      "Iteration 1000, Loss: 0.1852504252252446\n",
      "Iteration 2000, Loss: 0.13552401876939776\n",
      "Iteration 3000, Loss: 0.06169651567657435\n",
      "Iteration 4000, Loss: 0.030032214768469505\n",
      "Iteration 5000, Loss: 0.018080692182196607\n",
      "Iteration 6000, Loss: 0.012387523024764747\n",
      "Iteration 7000, Loss: 0.009209022256338404\n",
      "Iteration 8000, Loss: 0.007225467182211181\n",
      "Iteration 9000, Loss: 0.0058928922612854085\n",
      "Iteration 10000, Loss: 0.004945354934815023\n",
      "Iteration 11000, Loss: 0.004241773750760838\n",
      "Iteration 12000, Loss: 0.003702253498775069\n",
      "Iteration 13000, Loss: 0.003276205641179437\n",
      "Iteration 14000, Loss: 0.002932023805889265\n",
      "Iteration 15000, Loss: 0.0026497060249683416\n",
      "Iteration 16000, Loss: 0.002413574090606129\n",
      "Iteration 17000, Loss: 0.0022141372553285184\n",
      "Iteration 18000, Loss: 0.0020432801623424084\n",
      "Iteration 19000, Loss: 0.001895303937074596\n",
      "Predicted Output with ReLU: \n",
      " [[0.05200231]\n",
      " [0.97116639]\n",
      " [0.9712641 ]\n",
      " [0.05200231]]\n"
     ]
    }
   ],
   "source": [
    "# Create some dummy data for training (XOR dataset)\n",
    "X = np.array([[0, 0], [0, 1], [1, 0], [1, 1]])  # Input\n",
    "y = np.array([[0], [1], [1], [0]])  # Expected output\n",
    "\n",
    "# Create the neural network with ReLU in the hidden layer\n",
    "nn_relu = NeuralNetworkReLU(input_size=2, hidden_size=3, output_size=1)\n",
    "\n",
    "# Train the network\n",
    "nn_relu.train(X, y, iterations=20000, learning_rate=0.01)\n",
    "\n",
    "# Test the network after training\n",
    "output = nn_relu.forward(X)\n",
    "print(\"Predicted Output with ReLU: \\n\", output)\n"
   ]
  },
  {
   "cell_type": "code",
   "execution_count": null,
   "id": "27f02723",
   "metadata": {},
   "outputs": [],
   "source": []
  }
 ],
 "metadata": {
  "kernelspec": {
   "display_name": "Python 3 (ipykernel)",
   "language": "python",
   "name": "python3"
  },
  "language_info": {
   "codemirror_mode": {
    "name": "ipython",
    "version": 3
   },
   "file_extension": ".py",
   "mimetype": "text/x-python",
   "name": "python",
   "nbconvert_exporter": "python",
   "pygments_lexer": "ipython3",
   "version": "3.11.5"
  }
 },
 "nbformat": 4,
 "nbformat_minor": 5
}
